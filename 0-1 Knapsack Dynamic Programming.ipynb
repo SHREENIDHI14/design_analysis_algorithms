{
 "cells": [
  {
   "cell_type": "code",
   "execution_count": 1,
   "metadata": {},
   "outputs": [],
   "source": [
    "def knapsack(W, wt, val): \n",
    "    n=len(val)\n",
    "    L = [[0 for x in range(W + 1)] for x in range(n + 1)] \n",
    "    for i in range(n + 1): \n",
    "        for w in range(W + 1): \n",
    "            if i == 0 or w == 0: \n",
    "                L[i][w] = 0\n",
    "            elif wt[i-1] <= w: \n",
    "                L[i][w] = max(val[i-1] + L[i-1][w-wt[i-1]],  L[i-1][w]) \n",
    "            else: \n",
    "                L[i][w] = L[i-1][w] \n",
    "    return L[n][W] \n"
   ]
  },
  {
   "cell_type": "code",
   "execution_count": 2,
   "metadata": {},
   "outputs": [
    {
     "name": "stdout",
     "output_type": "stream",
     "text": [
      "90\n"
     ]
    }
   ],
   "source": [
    "val = [40,30,50,10] \n",
    "wt = [2,5,10,5] \n",
    "W = 16\n",
    "val, wt = zip(*sorted(zip(val, wt)))\n",
    "print(knapsack(W, wt, val)) "
   ]
  },
  {
   "cell_type": "code",
   "execution_count": null,
   "metadata": {},
   "outputs": [],
   "source": []
  }
 ],
 "metadata": {
  "kernelspec": {
   "display_name": "Python 3",
   "language": "python",
   "name": "python3"
  },
  "language_info": {
   "codemirror_mode": {
    "name": "ipython",
    "version": 3
   },
   "file_extension": ".py",
   "mimetype": "text/x-python",
   "name": "python",
   "nbconvert_exporter": "python",
   "pygments_lexer": "ipython3",
   "version": "3.7.3"
  }
 },
 "nbformat": 4,
 "nbformat_minor": 2
}
