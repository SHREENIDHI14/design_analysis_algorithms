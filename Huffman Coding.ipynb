{
 "cells": [
  {
   "cell_type": "code",
   "execution_count": 1,
   "metadata": {},
   "outputs": [],
   "source": [
    "def assign_code(nodes, label, result, prefix = ''):    \n",
    "    childs = nodes[label]     \n",
    "    tree = {}\n",
    "    if len(childs) == 2:\n",
    "        tree['0'] = assign_code(nodes, childs[0], result, prefix+'0')\n",
    "        tree['1'] = assign_code(nodes, childs[1], result, prefix+'1')     \n",
    "        return tree\n",
    "    else:\n",
    "        result[label] = prefix\n",
    "        return label\n",
    "\n",
    "def Huffman_code(_vals):    \n",
    "    vals = _vals.copy()\n",
    "    nodes = {}\n",
    "    for n in vals.keys(): \n",
    "        nodes[n] = []\n",
    "\n",
    "    while len(vals) > 1: \n",
    "        s_vals = sorted(vals.items(), key=lambda x:x[1]) \n",
    "        a1 = s_vals[0][0]\n",
    "        a2 = s_vals[1][0]\n",
    "        vals[a1+a2] = vals.pop(a1) + vals.pop(a2)\n",
    "        nodes[a1+a2] = [a1, a2]        \n",
    "    code = {}\n",
    "    root = a1+a2\n",
    "    tree = {}\n",
    "    tree = assign_code(nodes, root, code)        \n",
    "    return code"
   ]
  },
  {
   "cell_type": "code",
   "execution_count": 2,
   "metadata": {},
   "outputs": [
    {
     "name": "stdout",
     "output_type": "stream",
     "text": [
      "{'a': 0.166, 'b': 0.166, 'c': 0.166, 'd': 0.666, 'e': 0.166, 'f': 0.166}\n"
     ]
    }
   ],
   "source": [
    "freq = [(0.166, 'a'), (0.166, 'b'), (0.166, 'c'), (0.666, 'd'),\n",
    "(0.166, 'e'),(0.166, 'f')]    \n",
    "vals = {l:v for (v,l) in freq}\n",
    "print(vals)\n",
    "code= Huffman_code(vals)"
   ]
  },
  {
   "cell_type": "code",
   "execution_count": 3,
   "metadata": {},
   "outputs": [
    {
     "data": {
      "text/plain": [
       "{'d': '0', 'c': '100', 'e': '101', 'f': '110', 'a': '1110', 'b': '1111'}"
      ]
     },
     "execution_count": 3,
     "metadata": {},
     "output_type": "execute_result"
    }
   ],
   "source": [
    "code"
   ]
  },
  {
   "cell_type": "code",
   "execution_count": null,
   "metadata": {},
   "outputs": [],
   "source": []
  }
 ],
 "metadata": {
  "kernelspec": {
   "display_name": "Python 3",
   "language": "python",
   "name": "python3"
  },
  "language_info": {
   "codemirror_mode": {
    "name": "ipython",
    "version": 3
   },
   "file_extension": ".py",
   "mimetype": "text/x-python",
   "name": "python",
   "nbconvert_exporter": "python",
   "pygments_lexer": "ipython3",
   "version": "3.7.3"
  }
 },
 "nbformat": 4,
 "nbformat_minor": 2
}
