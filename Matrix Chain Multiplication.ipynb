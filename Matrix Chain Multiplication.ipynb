{
 "cells": [
  {
   "cell_type": "code",
   "execution_count": 1,
   "metadata": {},
   "outputs": [],
   "source": [
    "def matrix_chain_mult(p, n):\n",
    "    m = [[0 for x in range(n)] for x in range(n)] \n",
    "    for i in range(1, n): \n",
    "        m[i][i] = 0\n",
    "    for L in range(2, n): \n",
    "        for i in range(1, n-L+1): \n",
    "            j = i+L-1\n",
    "            for k in range(i, j): \n",
    "                q = m[i][k] + m[k+1][j] + p[i-1]*p[k]*p[j] \n",
    "                if m[i][j]!=0 & q < m[i][j]: \n",
    "                    m[i][j] = q \n",
    "                else:\n",
    "                    m[i][j]=q\n",
    "  \n",
    "    return m[1][n-1] "
   ]
  },
  {
   "cell_type": "code",
   "execution_count": 2,
   "metadata": {},
   "outputs": [
    {
     "name": "stdout",
     "output_type": "stream",
     "text": [
      "Minimum number of multiplications is 18\n"
     ]
    }
   ],
   "source": [
    "p = [1, 2, 3 ,4] \n",
    "n= len(p) \n",
    "  \n",
    "print(\"Minimum number of multiplications is\", matrix_chain_mult(p,n))\n"
   ]
  },
  {
   "cell_type": "code",
   "execution_count": null,
   "metadata": {},
   "outputs": [],
   "source": []
  }
 ],
 "metadata": {
  "kernelspec": {
   "display_name": "Python 3",
   "language": "python",
   "name": "python3"
  },
  "language_info": {
   "codemirror_mode": {
    "name": "ipython",
    "version": 3
   },
   "file_extension": ".py",
   "mimetype": "text/x-python",
   "name": "python",
   "nbconvert_exporter": "python",
   "pygments_lexer": "ipython3",
   "version": "3.7.3"
  }
 },
 "nbformat": 4,
 "nbformat_minor": 2
}
