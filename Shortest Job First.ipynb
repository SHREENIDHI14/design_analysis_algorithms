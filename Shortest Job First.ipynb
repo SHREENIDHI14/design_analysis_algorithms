{
 "cells": [
  {
   "cell_type": "code",
   "execution_count": 1,
   "metadata": {},
   "outputs": [],
   "source": [
    "def SJF(arr,time):\n",
    "    n=len(arr)\n",
    "    time_taken=[0]*n\n",
    "    result=0\n",
    "    time,arr = zip(*sorted(zip(time, arr)))\n",
    "    arr=list(arr)\n",
    "    time=list(time)\n",
    "    print(\"Order of job execution is\",arr)\n",
    "    for i in range (0,n):\n",
    "        time_taken[i]=time_taken[i-1]+time[i]\n",
    "        result+=time_taken[i]\n",
    "    return result"
   ]
  },
  {
   "cell_type": "code",
   "execution_count": 2,
   "metadata": {},
   "outputs": [
    {
     "name": "stdout",
     "output_type": "stream",
     "text": [
      "Order of job execution is ['b', 'c', 'a']\n",
      "Time taken is 52\n"
     ]
    }
   ],
   "source": [
    "arr=['a','b','c']\n",
    "time=[20,4,10]\n",
    "print(\"Time taken is\",SJF(arr,time))"
   ]
  },
  {
   "cell_type": "code",
   "execution_count": null,
   "metadata": {},
   "outputs": [],
   "source": []
  }
 ],
 "metadata": {
  "kernelspec": {
   "display_name": "Python 3",
   "language": "python",
   "name": "python3"
  },
  "language_info": {
   "codemirror_mode": {
    "name": "ipython",
    "version": 3
   },
   "file_extension": ".py",
   "mimetype": "text/x-python",
   "name": "python",
   "nbconvert_exporter": "python",
   "pygments_lexer": "ipython3",
   "version": "3.7.3"
  }
 },
 "nbformat": 4,
 "nbformat_minor": 2
}
