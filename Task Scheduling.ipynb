{
 "cells": [
  {
   "cell_type": "code",
   "execution_count": 1,
   "metadata": {},
   "outputs": [],
   "source": [
    "def JobScheduling(arr,t):\n",
    "    n = len(arr)\n",
    "    for i in range(n): \n",
    "        for j in range(n - 1 - i): \n",
    "            if arr[j][2] < arr[j + 1][2]: \n",
    "                arr[j], arr[j + 1] = arr[j + 1], arr[j] \n",
    "    result = [False] * t \n",
    "    job = ['0'] * t     \n",
    "    for i in range(len(arr)): \n",
    "        for j in range(arr[i][1] - 1, -1,-1): \n",
    "            if result[j] is False: \n",
    "                result[j] = True\n",
    "                job[j] = arr[i][0] \n",
    "                break\n",
    "    print(job) "
   ]
  },
  {
   "cell_type": "code",
   "execution_count": 2,
   "metadata": {},
   "outputs": [
    {
     "name": "stdout",
     "output_type": "stream",
     "text": [
      "Following is maximum profit sequence of jobs\n",
      "['c', 'a', 'e']\n"
     ]
    }
   ],
   "source": [
    "arr = [['a', 2, 100], \n",
    "       ['b', 1, 19], \n",
    "       ['c', 2, 27], \n",
    "       ['d', 1, 25], \n",
    "       ['e', 3, 15]] \n",
    "print(\"Following is maximum profit sequence of jobs\") \n",
    "JobScheduling(arr, 3)"
   ]
  },
  {
   "cell_type": "code",
   "execution_count": 3,
   "metadata": {},
   "outputs": [
    {
     "name": "stdout",
     "output_type": "stream",
     "text": [
      "Following is maximum profit sequence of jobs\n",
      "['2', '4', '1']\n"
     ]
    }
   ],
   "source": [
    "arr = [['1', 3, 40], \n",
    "       ['2', 1, 35], \n",
    "       ['3', 1, 30], \n",
    "       ['4', 3, 25], \n",
    "       ['5', 1, 20],\n",
    "      ['6',3,15],\n",
    "      ['7',2,10]] \n",
    "print(\"Following is maximum profit sequence of jobs\") \n",
    "JobScheduling(arr, 3)"
   ]
  },
  {
   "cell_type": "code",
   "execution_count": null,
   "metadata": {},
   "outputs": [],
   "source": []
  }
 ],
 "metadata": {
  "kernelspec": {
   "display_name": "Python 3",
   "language": "python",
   "name": "python3"
  },
  "language_info": {
   "codemirror_mode": {
    "name": "ipython",
    "version": 3
   },
   "file_extension": ".py",
   "mimetype": "text/x-python",
   "name": "python",
   "nbconvert_exporter": "python",
   "pygments_lexer": "ipython3",
   "version": "3.7.3"
  }
 },
 "nbformat": 4,
 "nbformat_minor": 2
}
