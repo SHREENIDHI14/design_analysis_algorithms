{
 "cells": [
  {
   "cell_type": "code",
   "execution_count": 1,
   "metadata": {},
   "outputs": [
    {
     "name": "stdout",
     "output_type": "stream",
     "text": [
      "enter the no of inputs3\n",
      "[90, 21, 58]\n",
      "Element is not present in array\n"
     ]
    }
   ],
   "source": [
    "#linear search:\n",
    "import random\n",
    "import time\n",
    "def search(arr, n, x): \n",
    "  \n",
    "    for i in range (0, n): \n",
    "        if (arr[i] == x): \n",
    "            return i; \n",
    "    return -1; \n",
    "  \n",
    "# Driver Code \n",
    "size=int(input(\"enter the no of inputs\"))\n",
    "arr = [random.randint(0,100)for i in range(size)]\n",
    "print(arr)\n",
    "x = 10;  \n",
    "result = search(arr,size, x) \n",
    "if(result == -1): \n",
    "    print(\"Element is not present in array\") \n",
    "else: \n",
    "    print(\"Element is present at index\", result); \n"
   ]
  },
  {
   "cell_type": "code",
   "execution_count": 2,
   "metadata": {},
   "outputs": [
    {
     "name": "stdout",
     "output_type": "stream",
     "text": [
      "False\n",
      "True\n"
     ]
    }
   ],
   "source": [
    "#binary search\n",
    "def binary_search(item_list,item):\n",
    "    first = 0\n",
    "    last = len(item_list)-1\n",
    "    found = False\n",
    "    while( first<=last and not found):\n",
    "        mid = (first + last)//2\n",
    "        if item_list[mid] == item :\n",
    "            found = True\n",
    "        else:\n",
    "            if item < item_list[mid]:\n",
    "                last = mid - 1\n",
    "            else:\n",
    "                first = mid + 1\t\n",
    "    return found\n",
    "    \n",
    "print(binary_search([1,2,3,5,8], 6))\n",
    "print(binary_search([1,2,3,5,8], 5))"
   ]
  },
  {
   "cell_type": "code",
   "execution_count": 3,
   "metadata": {},
   "outputs": [
    {
     "name": "stdout",
     "output_type": "stream",
     "text": [
      "enter the size3\n",
      "sorted array [7, 9, 41]\n",
      "sorted array [7, 9, 41]\n",
      "sorted array [7, 9, 41]\n",
      "final array [7, 9, 41]\n",
      "0.015393495559692383\n"
     ]
    }
   ],
   "source": [
    "#selection sort\n",
    "import random\n",
    "import time\n",
    "size=int(input(\"enter the size\"))\n",
    "arr=[random.randint(0,100) for i in range(size)]\n",
    "sta=time.time()\n",
    "for i in range(0,len(arr)):\n",
    "    min=i\n",
    "    for j in range(i+1,len(arr)):\n",
    "        if arr[min]>arr[j]:\n",
    "            min=j   \n",
    "    temp=arr[i]\n",
    "    arr[i]=arr[min]\n",
    "    arr[min]=temp\n",
    "    print(\"sorted array\",arr)\n",
    "print(\"final array\",arr)\n",
    "end=time.time()\n",
    "print(end-sta)"
   ]
  },
  {
   "cell_type": "code",
   "execution_count": 4,
   "metadata": {},
   "outputs": [
    {
     "name": "stdout",
     "output_type": "stream",
     "text": [
      "Enter the number of inputs5\n",
      "[100, 1, 82, 22, 30]\n",
      "[1, 82, 22, 30, 100]\n",
      "[1, 22, 30, 82, 100]\n",
      "[1, 22, 30, 82, 100]\n",
      "[1, 22, 30, 82, 100]\n",
      "[1, 22, 30, 82, 100]\n",
      "0.003998756408691406\n",
      "[1, 22, 30, 82, 100]\n"
     ]
    }
   ],
   "source": [
    "#bubble sort\n",
    "import numpy as np\n",
    "import time\n",
    "import random\n",
    "n=int(input(\"Enter the number of inputs\"))\n",
    "a=[random.randint(0,100) for i in range(n)]\n",
    "s=time.time()\n",
    "print(a)\n",
    "for i in range(0,n):\n",
    "    for j in range(n-i-1):\n",
    "        if a[j]>a[j+1]:\n",
    "            temp=a[j+1]\n",
    "            a[j+1]=a[j]\n",
    "            a[j]=temp\n",
    "    print(a)\n",
    "end=time.time()\n",
    "print(end-s)\n",
    "print(a)"
   ]
  },
  {
   "cell_type": "code",
   "execution_count": 5,
   "metadata": {},
   "outputs": [
    {
     "name": "stdout",
     "output_type": "stream",
     "text": [
      "[42 32 93 60 95]\n",
      "[32 42 93 60 95]\n",
      "[32 42 60 93 95]\n",
      "0.0\n",
      "Sorted array is:\n",
      "[32 42 60 93 95]\n"
     ]
    }
   ],
   "source": [
    "#insertion\n",
    "import time\n",
    "import numpy as np\n",
    "import random\n",
    "s=time.time()\n",
    "def insertionSort(arr): \n",
    "    for i in range(1, len(arr)): \n",
    "        key = arr[i] \n",
    "        j = i-1\n",
    "        while j >=0 and key < arr[j] : \n",
    "                arr[j+1] = arr[j] \n",
    "                j -= 1 \n",
    "                arr[j+1] = key \n",
    "                print(arr)\n",
    "\n",
    "arr=np.random.randint(0,100,5)\n",
    "insertionSort(arr) \n",
    "e=time.time()\n",
    "print(e-s)\n",
    "print (\"Sorted array is:\") \n",
    "print(arr)"
   ]
  },
  {
   "cell_type": "code",
   "execution_count": 8,
   "metadata": {},
   "outputs": [
    {
     "name": "stdout",
     "output_type": "stream",
     "text": [
      "Given array is \n",
      "59\n",
      "34\n",
      "10\n",
      "76\n",
      "44\n",
      "\n",
      "Sorted array is:\n",
      "10\n",
      "34\n",
      "44\n",
      "59\n",
      "76\n",
      "\n"
     ]
    }
   ],
   "source": [
    "import numpy as np\n",
    "def mergeSort(arr): \n",
    "    if len(arr) >1: \n",
    "        mid = len(arr)//2\n",
    "        L = arr[:mid]   \n",
    "        R = arr[mid:] \n",
    "        mergeSort(L) \n",
    "        mergeSort(R) \n",
    "        i = j = k = 0\n",
    "          \n",
    "        \n",
    "        while i < len(L) and j < len(R): \n",
    "            if L[i] < R[j]: \n",
    "                arr[k] = L[i] \n",
    "                i+=1\n",
    "            else: \n",
    "                arr[k] = R[j] \n",
    "                j+=1\n",
    "            k+=1\n",
    "          \n",
    "        while i < len(L): \n",
    "            arr[k] = L[i] \n",
    "            i+=1\n",
    "            k+=1\n",
    "          \n",
    "        while j < len(R): \n",
    "            arr[k] = R[j] \n",
    "            j+=1\n",
    "            k+=1\n",
    "  \n",
    "# Code to print the list \n",
    "def printList(arr): \n",
    "    for i in range(len(arr)):         \n",
    "        print(arr[i],end=\"\\n\") \n",
    "    print() \n",
    "  \n",
    "# driver code to test the above code \n",
    "if __name__ == '__main__': \n",
    "    arr = [59,34,10,76,44]\n",
    "    print (\"Given array is \",end=\"\\n\")  \n",
    "    printList(arr) \n",
    "    mergeSort(arr) \n",
    "    print(\"Sorted array is:\",end=\"\\n\") \n",
    "    printList(arr) "
   ]
  },
  {
   "cell_type": "code",
   "execution_count": 12,
   "metadata": {},
   "outputs": [],
   "source": [
    "def partition(array, start, end):\n",
    "    pivot = array[start]\n",
    "    low = start + 1\n",
    "    high = end\n",
    "\n",
    "    while True:\n",
    "    \n",
    "        while low <= high and array[high] >= pivot:\n",
    "            high = high - 1\n",
    "\n",
    "        # Opposite process of the one above\n",
    "        while low <= high and array[low] <= pivot:\n",
    "            low = low + 1\n",
    "        if low <= high:\n",
    "            array[low], array[high] = array[high], array[low]\n",
    "            # The loop continues\n",
    "        else:\n",
    "            # We exit out of the loop\n",
    "            break\n",
    "\n",
    "    array[start], array[high] = array[high], array[start]\n",
    "\n",
    "    return high"
   ]
  },
  {
   "cell_type": "code",
   "execution_count": 13,
   "metadata": {},
   "outputs": [],
   "source": [
    "def quick_sort(array, start, end):\n",
    "    if start >= end:\n",
    "        return\n",
    "\n",
    "    p = partition(array, start, end)\n",
    "    quick_sort(array, start, p-1)\n",
    "    quick_sort(array, p+1, end)"
   ]
  },
  {
   "cell_type": "code",
   "execution_count": 14,
   "metadata": {},
   "outputs": [
    {
     "name": "stdout",
     "output_type": "stream",
     "text": [
      "[12, 19, 21, 27, 28, 29, 31, 41, 44, 44, 58, 66, 76, 78, 83, 87, 88, 97, 99]\n"
     ]
    }
   ],
   "source": [
    "array = [29,99,27,41,66,28,44,78,87,19,31,76,58,88,83,97,12,21,44]\n",
    "\n",
    "quick_sort(array, 0, len(array) - 1)\n",
    "print(array)"
   ]
  },
  {
   "cell_type": "code",
   "execution_count": 15,
   "metadata": {},
   "outputs": [
    {
     "name": "stdout",
     "output_type": "stream",
     "text": [
      "Sorted Array is\n",
      "[0.1234, 0.3434, 0.565, 0.656, 0.665, 0.897]\n"
     ]
    }
   ],
   "source": [
    "def insertionSort(b): \n",
    "    for i in range(1, len(b)): \n",
    "        up = b[i] \n",
    "        j = i - 1\n",
    "        while j >=0 and b[j] > up:  \n",
    "            b[j + 1] = b[j] \n",
    "            j -= 1\n",
    "        b[j + 1] = up      \n",
    "    return b      \n",
    "              \n",
    "def bucketSort(x): \n",
    "    arr = [] \n",
    "    slot_num = 10 # 10 means 10 slots, each \n",
    "                  # slot's size is 0.1 \n",
    "    for i in range(slot_num): \n",
    "        arr.append([]) \n",
    "          \n",
    "    # Put array elements in different buckets  \n",
    "    for j in x: \n",
    "        index_b = int(slot_num * j)  \n",
    "        arr[index_b].append(j) \n",
    "      \n",
    "    # Sort individual buckets  \n",
    "    for i in range(slot_num): \n",
    "        arr[i] = insertionSort(arr[i]) \n",
    "          \n",
    "    # concatenate the result \n",
    "    k = 0\n",
    "    for i in range(slot_num): \n",
    "        for j in range(len(arr[i])): \n",
    "            x[k] = arr[i][j] \n",
    "            k += 1\n",
    "    return x \n",
    "  \n",
    "# Driver Code \n",
    "x = [0.897, 0.565, 0.656, \n",
    "     0.1234, 0.665, 0.3434]  \n",
    "print(\"Sorted Array is\") \n",
    "print(bucketSort(x)) "
   ]
  },
  {
   "cell_type": "code",
   "execution_count": 16,
   "metadata": {},
   "outputs": [
    {
     "name": "stdout",
     "output_type": "stream",
     "text": [
      "Sorted array is\n",
      "5\n",
      "6\n",
      "7\n",
      "11\n",
      "12\n",
      "13\n"
     ]
    }
   ],
   "source": [
    "def heapify(arr, n, i): \n",
    "    largest = i  # Initialize largest as root \n",
    "    l = 2 * i + 1     # left = 2*i + 1 \n",
    "    r = 2 * i + 2     # right = 2*i + 2 \n",
    "  \n",
    "    # See if left child of root exists and is \n",
    "    # greater than root \n",
    "    if l < n and arr[i] < arr[l]: \n",
    "        largest = l \n",
    "  \n",
    "    # See if right child of root exists and is \n",
    "    # greater than root \n",
    "    if r < n and arr[largest] < arr[r]: \n",
    "        largest = r \n",
    "  \n",
    "    # Change root, if needed \n",
    "    if largest != i: \n",
    "        arr[i],arr[largest] = arr[largest],arr[i]  # swap \n",
    "  \n",
    "        # Heapify the root. \n",
    "        heapify(arr, n, largest) \n",
    "  \n",
    "# The main function to sort an array of given size \n",
    "def heapSort(arr): \n",
    "    n = len(arr) \n",
    "  \n",
    "    # Build a maxheap. \n",
    "    for i in range(n, -1, -1): \n",
    "        heapify(arr, n, i) \n",
    "  \n",
    "    # One by one extract elements \n",
    "    for i in range(n-1, 0, -1): \n",
    "        arr[i], arr[0] = arr[0], arr[i]   # swap \n",
    "        heapify(arr, i, 0) \n",
    "  \n",
    "# Driver code to test above \n",
    "arr = [ 12, 11, 13, 5, 6, 7] \n",
    "heapSort(arr) \n",
    "n = len(arr) \n",
    "print (\"Sorted array is\") \n",
    "for i in range(n): \n",
    "    print (\"%d\" %arr[i])"
   ]
  },
  {
   "cell_type": "code",
   "execution_count": 17,
   "metadata": {},
   "outputs": [
    {
     "ename": "TypeError",
     "evalue": "list indices must be integers or slices, not float",
     "output_type": "error",
     "traceback": [
      "\u001b[1;31m---------------------------------------------------------------------------\u001b[0m",
      "\u001b[1;31mTypeError\u001b[0m                                 Traceback (most recent call last)",
      "\u001b[1;32m<ipython-input-17-c01fe867ae3a>\u001b[0m in \u001b[0;36m<module>\u001b[1;34m\u001b[0m\n\u001b[0;32m     49\u001b[0m \u001b[1;31m# Driver code to test above\u001b[0m\u001b[1;33m\u001b[0m\u001b[1;33m\u001b[0m\u001b[1;33m\u001b[0m\u001b[0m\n\u001b[0;32m     50\u001b[0m \u001b[0marr\u001b[0m \u001b[1;33m=\u001b[0m \u001b[1;33m[\u001b[0m \u001b[1;36m170\u001b[0m\u001b[1;33m,\u001b[0m \u001b[1;36m45\u001b[0m\u001b[1;33m,\u001b[0m \u001b[1;36m75\u001b[0m\u001b[1;33m,\u001b[0m \u001b[1;36m90\u001b[0m\u001b[1;33m,\u001b[0m \u001b[1;36m802\u001b[0m\u001b[1;33m,\u001b[0m \u001b[1;36m24\u001b[0m\u001b[1;33m,\u001b[0m \u001b[1;36m2\u001b[0m\u001b[1;33m,\u001b[0m \u001b[1;36m66\u001b[0m\u001b[1;33m]\u001b[0m\u001b[1;33m\u001b[0m\u001b[1;33m\u001b[0m\u001b[0m\n\u001b[1;32m---> 51\u001b[1;33m \u001b[0mradixSort\u001b[0m\u001b[1;33m(\u001b[0m\u001b[0marr\u001b[0m\u001b[1;33m)\u001b[0m\u001b[1;33m\u001b[0m\u001b[1;33m\u001b[0m\u001b[0m\n\u001b[0m\u001b[0;32m     52\u001b[0m \u001b[1;33m\u001b[0m\u001b[0m\n\u001b[0;32m     53\u001b[0m \u001b[1;32mfor\u001b[0m \u001b[0mi\u001b[0m \u001b[1;32min\u001b[0m \u001b[0mrange\u001b[0m\u001b[1;33m(\u001b[0m\u001b[0mlen\u001b[0m\u001b[1;33m(\u001b[0m\u001b[0marr\u001b[0m\u001b[1;33m)\u001b[0m\u001b[1;33m)\u001b[0m\u001b[1;33m:\u001b[0m\u001b[1;33m\u001b[0m\u001b[1;33m\u001b[0m\u001b[0m\n",
      "\u001b[1;32m<ipython-input-17-c01fe867ae3a>\u001b[0m in \u001b[0;36mradixSort\u001b[1;34m(arr)\u001b[0m\n\u001b[0;32m     44\u001b[0m     \u001b[0mexp\u001b[0m \u001b[1;33m=\u001b[0m \u001b[1;36m1\u001b[0m\u001b[1;33m\u001b[0m\u001b[1;33m\u001b[0m\u001b[0m\n\u001b[0;32m     45\u001b[0m     \u001b[1;32mwhile\u001b[0m \u001b[0mmax1\u001b[0m\u001b[1;33m/\u001b[0m\u001b[0mexp\u001b[0m \u001b[1;33m>\u001b[0m \u001b[1;36m0\u001b[0m\u001b[1;33m:\u001b[0m\u001b[1;33m\u001b[0m\u001b[1;33m\u001b[0m\u001b[0m\n\u001b[1;32m---> 46\u001b[1;33m         \u001b[0mcountingSort\u001b[0m\u001b[1;33m(\u001b[0m\u001b[0marr\u001b[0m\u001b[1;33m,\u001b[0m\u001b[0mexp\u001b[0m\u001b[1;33m)\u001b[0m\u001b[1;33m\u001b[0m\u001b[1;33m\u001b[0m\u001b[0m\n\u001b[0m\u001b[0;32m     47\u001b[0m         \u001b[0mexp\u001b[0m \u001b[1;33m*=\u001b[0m \u001b[1;36m10\u001b[0m\u001b[1;33m\u001b[0m\u001b[1;33m\u001b[0m\u001b[0m\n\u001b[0;32m     48\u001b[0m \u001b[1;33m\u001b[0m\u001b[0m\n",
      "\u001b[1;32m<ipython-input-17-c01fe867ae3a>\u001b[0m in \u001b[0;36mcountingSort\u001b[1;34m(arr, exp1)\u001b[0m\n\u001b[0;32m     12\u001b[0m     \u001b[1;32mfor\u001b[0m \u001b[0mi\u001b[0m \u001b[1;32min\u001b[0m \u001b[0mrange\u001b[0m\u001b[1;33m(\u001b[0m\u001b[1;36m0\u001b[0m\u001b[1;33m,\u001b[0m \u001b[0mn\u001b[0m\u001b[1;33m)\u001b[0m\u001b[1;33m:\u001b[0m\u001b[1;33m\u001b[0m\u001b[1;33m\u001b[0m\u001b[0m\n\u001b[0;32m     13\u001b[0m         \u001b[0mindex\u001b[0m \u001b[1;33m=\u001b[0m \u001b[1;33m(\u001b[0m\u001b[0marr\u001b[0m\u001b[1;33m[\u001b[0m\u001b[0mi\u001b[0m\u001b[1;33m]\u001b[0m\u001b[1;33m/\u001b[0m\u001b[0mexp1\u001b[0m\u001b[1;33m)\u001b[0m\u001b[1;33m\u001b[0m\u001b[1;33m\u001b[0m\u001b[0m\n\u001b[1;32m---> 14\u001b[1;33m         \u001b[0mcount\u001b[0m\u001b[1;33m[\u001b[0m \u001b[1;33m(\u001b[0m\u001b[0mindex\u001b[0m\u001b[1;33m)\u001b[0m\u001b[1;33m%\u001b[0m\u001b[1;36m10\u001b[0m \u001b[1;33m]\u001b[0m \u001b[1;33m+=\u001b[0m \u001b[1;36m1\u001b[0m\u001b[1;33m\u001b[0m\u001b[1;33m\u001b[0m\u001b[0m\n\u001b[0m\u001b[0;32m     15\u001b[0m \u001b[1;33m\u001b[0m\u001b[0m\n\u001b[0;32m     16\u001b[0m     \u001b[1;31m# Change count[i] so that count[i] now contains actual\u001b[0m\u001b[1;33m\u001b[0m\u001b[1;33m\u001b[0m\u001b[1;33m\u001b[0m\u001b[0m\n",
      "\u001b[1;31mTypeError\u001b[0m: list indices must be integers or slices, not float"
     ]
    }
   ],
   "source": [
    "def countingSort(arr, exp1): \n",
    "  \n",
    "    n = len(arr) \n",
    "  \n",
    "    # The output array elements that will have sorted arr \n",
    "    output = [0] * (n) \n",
    "  \n",
    "    # initialize count array as 0 \n",
    "    count = [0] * (10) \n",
    "  \n",
    "    # Store count of occurrences in count[] \n",
    "    for i in range(0, n): \n",
    "        index = (arr[i]/exp1) \n",
    "        count[ (index)%10 ] += 1\n",
    "  \n",
    "    # Change count[i] so that count[i] now contains actual \n",
    "    #  position of this digit in output array \n",
    "    for i in range(1,10): \n",
    "        count[i] += count[i-1] \n",
    "  \n",
    "    # Build the output array \n",
    "    i = n-1\n",
    "    while i>=0: \n",
    "        index = (arr[i]/exp1) \n",
    "        output[ count[ (index)%10 ] - 1] = arr[i] \n",
    "        count[ (index)%10 ] -= 1\n",
    "        i -= 1\n",
    "  \n",
    "    # Copying the output array to arr[], \n",
    "    # so that arr now contains sorted numbers \n",
    "    i = 0\n",
    "    for i in range(0,len(arr)): \n",
    "        arr[i] = output[i] \n",
    "  \n",
    "# Method to do Radix Sort \n",
    "def radixSort(arr): \n",
    "  \n",
    "    # Find the maximum number to know number of digits \n",
    "    max1 = max(arr) \n",
    "  \n",
    "    # Do counting sort for every digit. Note that instead \n",
    "    # of passing digit number, exp is passed. exp is 10^i \n",
    "    # where i is current digit number \n",
    "    exp = 1\n",
    "    while max1/exp > 0: \n",
    "        countingSort(arr,exp) \n",
    "        exp *= 10\n",
    "  \n",
    "# Driver code to test above \n",
    "arr = [ 170, 45, 75, 90, 802, 24, 2, 66] \n",
    "radixSort(arr) \n",
    "  \n",
    "for i in range(len(arr)): \n",
    "    print(arr[i])"
   ]
  },
  {
   "cell_type": "code",
   "execution_count": 18,
   "metadata": {},
   "outputs": [],
   "source": [
    "#0-1 knapsack problem\n",
    "def knap(a,wt,value,no): \n",
    "    if no == 0 :\n",
    "        return 0\n",
    "    if a == 0 : \n",
    "        return 0\n",
    "    if (wt[no-1]>a): \n",
    "        return knap(a,wt,value,no-1) \n",
    "  \n",
    "    else: \n",
    "        return max(value[no-1] + knap(a-wt[no-1],wt,value,no-1), \n",
    "                   knap(a,wt,value,no-1)) \n"
   ]
  },
  {
   "cell_type": "code",
   "execution_count": 19,
   "metadata": {},
   "outputs": [
    {
     "name": "stdout",
     "output_type": "stream",
     "text": [
      "100\n"
     ]
    }
   ],
   "source": [
    "value=[100,180,200] #the values\n",
    "wt=[25,60,65] #the weights\n",
    "a = 50 #maximum weight\n",
    "no = len(value) #finding the no of items\n",
    "print(knap(a,wt,value,no))"
   ]
  },
  {
   "cell_type": "code",
   "execution_count": 20,
   "metadata": {},
   "outputs": [],
   "source": [
    "def fract_knapsack(W, wt, val,n): \n",
    "    result=0\n",
    "    if n == 0 or W == 0 : \n",
    "        return 0\n",
    "    if (wt[n-1] > W): \n",
    "        val[n-1]=(W/wt[n-1])*val[n-1]\n",
    "        wt[n-1]=W\n",
    "        result=result+val[n-1]\n",
    "        W=W-wt[n-1]\n",
    "        return result\n",
    "    else: \n",
    "        result= max(val[n-1] + fract_knapsack(W-wt[n-1], wt, val, n-1), fract_knapsack(W, wt, val, n-1)) \n",
    "        return result"
   ]
  },
  {
   "cell_type": "code",
   "execution_count": 21,
   "metadata": {},
   "outputs": [
    {
     "name": "stdout",
     "output_type": "stream",
     "text": [
      "114.0\n"
     ]
    }
   ],
   "source": [
    "val = [40,30,50,10] \n",
    "wt= [2,5,10,5]\n",
    "val, wt = zip(*sorted(zip(val, wt)))\n",
    "val=list(val)\n",
    "wt=list(wt)\n",
    "W = 16\n",
    "n = len(val) \n",
    "print (fract_knapsack(W,wt,val,n)) "
   ]
  },
  {
   "cell_type": "code",
   "execution_count": 22,
   "metadata": {},
   "outputs": [],
   "source": [
    "def LCS(X , Y): \n",
    "    m = len(X) \n",
    "    n = len(Y) \n",
    "  \n",
    "    L = [[None]*(n+1) for i in range(m+1)] \n",
    "\n",
    "    for i in range(m+1): \n",
    "        for j in range(n+1): \n",
    "            if i == 0 or j == 0 : \n",
    "                L[i][j] = 0\n",
    "            elif X[i-1] == Y[j-1]: \n",
    "                L[i][j] = L[i-1][j-1]+1\n",
    "            else: \n",
    "                L[i][j] = max(L[i-1][j] , L[i][j-1])\n",
    "    return L[m][n] \n",
    "  "
   ]
  },
  {
   "cell_type": "code",
   "execution_count": 23,
   "metadata": {},
   "outputs": [
    {
     "name": "stdout",
     "output_type": "stream",
     "text": [
      "Longest Common Subsequence  6\n"
     ]
    }
   ],
   "source": [
    "X = \"PRERTBANSK\"\n",
    "Y = \"ESETLAITBANK\"\n",
    "print (\"Longest Common Subsequence \", LCS(X, Y))"
   ]
  },
  {
   "cell_type": "code",
   "execution_count": 24,
   "metadata": {},
   "outputs": [],
   "source": [
    "def LCSubStr(X, Y):  \n",
    "      \n",
    "    m = len(X) \n",
    "    n = len(Y) \n",
    "  \n",
    "    L = [[None]*(n+1) for i in range(m+1)] \n",
    "    result = 0 \n",
    "  \n",
    "    for i in range(m + 1): \n",
    "        for j in range(n + 1): \n",
    "            if (i == 0 or j == 0): \n",
    "                L[i][j] = 0\n",
    "            elif (X[i-1] == Y[j-1]): \n",
    "                L[i][j] = L[i-1][j-1] + 1\n",
    "                result = max(result, L[i][j]) \n",
    "            else: \n",
    "                L[i][j] = 0\n",
    "    return result "
   ]
  },
  {
   "cell_type": "code",
   "execution_count": 25,
   "metadata": {},
   "outputs": [
    {
     "name": "stdout",
     "output_type": "stream",
     "text": [
      "Longest Common Substring  4\n"
     ]
    }
   ],
   "source": [
    "X='graduation'\n",
    "Y='gradschool'\n",
    "print (\"Longest Common Substring \", LCSubStr(X, Y))"
   ]
  },
  {
   "cell_type": "code",
   "execution_count": 26,
   "metadata": {},
   "outputs": [],
   "source": [
    "def SJF(arr,time):\n",
    "    n=len(arr)\n",
    "    time_taken=[0]*n\n",
    "    result=0\n",
    "    time,arr = zip(*sorted(zip(time, arr)))\n",
    "    arr=list(arr)\n",
    "    time=list(time)\n",
    "    print(\"Order of job execution is\",arr)\n",
    "    for i in range (0,n):\n",
    "        time_taken[i]=time_taken[i-1]+time[i]\n",
    "        result+=time_taken[i]\n",
    "    return result"
   ]
  },
  {
   "cell_type": "code",
   "execution_count": 27,
   "metadata": {},
   "outputs": [
    {
     "name": "stdout",
     "output_type": "stream",
     "text": [
      "Order of job execution is ['b', 'c', 'a']\n",
      "Time taken is 52\n"
     ]
    }
   ],
   "source": [
    "arr=['a','b','c']\n",
    "time=[20,4,10]\n",
    "print(\"Time taken is\",SJF(arr,time))"
   ]
  },
  {
   "cell_type": "code",
   "execution_count": 29,
   "metadata": {},
   "outputs": [],
   "source": [
    "def JobScheduling(arr,t):\n",
    "    n = len(arr)\n",
    "    for i in range(n): \n",
    "        for j in range(n - 1 - i): \n",
    "            if arr[j][2] < arr[j + 1][2]: \n",
    "                arr[j], arr[j + 1] = arr[j + 1], arr[j] \n",
    "    result = [False] * t \n",
    "    job = ['0'] * t     \n",
    "    for i in range(len(arr)): \n",
    "        for j in range(arr[i][1] - 1, -1,-1): \n",
    "            if result[j] is False: \n",
    "                result[j] = True\n",
    "                job[j] = arr[i][0] \n",
    "                break\n",
    "    print(job) "
   ]
  },
  {
   "cell_type": "code",
   "execution_count": 30,
   "metadata": {},
   "outputs": [
    {
     "name": "stdout",
     "output_type": "stream",
     "text": [
      "Following is maximum profit sequence of jobs\n",
      "['c', 'a', 'e']\n"
     ]
    }
   ],
   "source": [
    "arr = [['a', 2, 100], \n",
    "       ['b', 1, 19], \n",
    "       ['c', 2, 27], \n",
    "       ['d', 1, 25], \n",
    "       ['e', 3, 15]] \n",
    "print(\"Following is maximum profit sequence of jobs\") \n",
    "JobScheduling(arr, 3)"
   ]
  },
  {
   "cell_type": "code",
   "execution_count": 31,
   "metadata": {},
   "outputs": [],
   "source": [
    "def matrix_chain_mult(p, n):\n",
    "    m = [[0 for x in range(n)] for x in range(n)] \n",
    "    for i in range(1, n): \n",
    "        m[i][i] = 0\n",
    "    for L in range(2, n): \n",
    "        for i in range(1, n-L+1): \n",
    "            j = i+L-1\n",
    "            for k in range(i, j): \n",
    "                q = m[i][k] + m[k+1][j] + p[i-1]*p[k]*p[j] \n",
    "                if m[i][j]!=0 & q < m[i][j]: \n",
    "                    m[i][j] = q \n",
    "                else:\n",
    "                    m[i][j]=q\n",
    "  \n",
    "    return m[1][n-1] "
   ]
  },
  {
   "cell_type": "code",
   "execution_count": 32,
   "metadata": {},
   "outputs": [
    {
     "name": "stdout",
     "output_type": "stream",
     "text": [
      "Minimum number of multiplications is 18\n"
     ]
    }
   ],
   "source": [
    "p = [1, 2, 3 ,4] \n",
    "n= len(p) \n",
    "  \n",
    "print(\"Minimum number of multiplications is\", matrix_chain_mult(p,n))\n"
   ]
  },
  {
   "cell_type": "code",
   "execution_count": 33,
   "metadata": {},
   "outputs": [],
   "source": [
    "def knapsack(W, wt, val): \n",
    "    n=len(val)\n",
    "    L = [[0 for x in range(W + 1)] for x in range(n + 1)] \n",
    "    for i in range(n + 1): \n",
    "        for w in range(W + 1): \n",
    "            if i == 0 or w == 0: \n",
    "                L[i][w] = 0\n",
    "            elif wt[i-1] <= w: \n",
    "                L[i][w] = max(val[i-1] + L[i-1][w-wt[i-1]],  L[i-1][w]) \n",
    "            else: \n",
    "                L[i][w] = L[i-1][w] \n",
    "    return L[n][W] \n"
   ]
  },
  {
   "cell_type": "code",
   "execution_count": 34,
   "metadata": {},
   "outputs": [
    {
     "name": "stdout",
     "output_type": "stream",
     "text": [
      "90\n"
     ]
    }
   ],
   "source": [
    "val = [40,30,50,10] \n",
    "wt = [2,5,10,5] \n",
    "W = 16\n",
    "val, wt = zip(*sorted(zip(val, wt)))\n",
    "print(knapsack(W, wt, val))"
   ]
  },
  {
   "cell_type": "code",
   "execution_count": 35,
   "metadata": {},
   "outputs": [],
   "source": [
    "def assign_code(nodes, label, result, prefix = ''):    \n",
    "    childs = nodes[label]     \n",
    "    tree = {}\n",
    "    if len(childs) == 2:\n",
    "        tree['0'] = assign_code(nodes, childs[0], result, prefix+'0')\n",
    "        tree['1'] = assign_code(nodes, childs[1], result, prefix+'1')     \n",
    "        return tree\n",
    "    else:\n",
    "        result[label] = prefix\n",
    "        return label\n",
    "\n",
    "def Huffman_code(_vals):    \n",
    "    vals = _vals.copy()\n",
    "    nodes = {}\n",
    "    for n in vals.keys(): \n",
    "        nodes[n] = []\n",
    "\n",
    "    while len(vals) > 1: \n",
    "        s_vals = sorted(vals.items(), key=lambda x:x[1]) \n",
    "        a1 = s_vals[0][0]\n",
    "        a2 = s_vals[1][0]\n",
    "        vals[a1+a2] = vals.pop(a1) + vals.pop(a2)\n",
    "        nodes[a1+a2] = [a1, a2]        \n",
    "    code = {}\n",
    "    root = a1+a2\n",
    "    tree = {}\n",
    "    tree = assign_code(nodes, root, code)        \n",
    "    return code"
   ]
  },
  {
   "cell_type": "code",
   "execution_count": 36,
   "metadata": {},
   "outputs": [
    {
     "name": "stdout",
     "output_type": "stream",
     "text": [
      "{'a': 0.166, 'b': 0.166, 'c': 0.166, 'd': 0.666, 'e': 0.166, 'f': 0.166}\n"
     ]
    }
   ],
   "source": [
    "freq = [(0.166, 'a'), (0.166, 'b'), (0.166, 'c'), (0.666, 'd'),\n",
    "(0.166, 'e'),(0.166, 'f')]    \n",
    "vals = {l:v for (v,l) in freq}\n",
    "print(vals)\n",
    "code= Huffman_code(vals)"
   ]
  },
  {
   "cell_type": "code",
   "execution_count": null,
   "metadata": {},
   "outputs": [],
   "source": []
  },
  {
   "cell_type": "code",
   "execution_count": null,
   "metadata": {},
   "outputs": [],
   "source": [
    "\n",
    "  "
   ]
  },
  {
   "cell_type": "code",
   "execution_count": null,
   "metadata": {},
   "outputs": [],
   "source": []
  },
  {
   "cell_type": "code",
   "execution_count": null,
   "metadata": {},
   "outputs": [],
   "source": []
  },
  {
   "cell_type": "code",
   "execution_count": null,
   "metadata": {},
   "outputs": [],
   "source": []
  },
  {
   "cell_type": "code",
   "execution_count": 73,
   "metadata": {},
   "outputs": [
    {
     "name": "stdout",
     "output_type": "stream",
     "text": [
      "Found pattern at index 10\n"
     ]
    }
   ],
   "source": [
    "#kmp\n",
    "def KMPSearch(pat, txt): \n",
    "    M = len(pat) \n",
    "    N = len(txt) \n",
    "  \n",
    "    \n",
    "    lps = [0]*M \n",
    "    j = 0 # index for pat[] \n",
    "  \n",
    "    # Preprocess the pattern (calculate lps[] array) \n",
    "    computeLPSArray(pat, M, lps) \n",
    "  \n",
    "    i = 0 # index for txt[] \n",
    "    while i < N: \n",
    "        if pat[j] == txt[i]: \n",
    "            i += 1\n",
    "            j += 1\n",
    "  \n",
    "        if j == M: \n",
    "            print (\"Found pattern at index \" + str(i-j)) \n",
    "            j = lps[j-1] \n",
    "  \n",
    "        # mismatch after j matches \n",
    "        elif i < N and pat[j] != txt[i]: \n",
    "            # Do not match lps[0..lps[j-1]] characters, \n",
    "            # they will match anyway \n",
    "            if j != 0: \n",
    "                j = lps[j-1] \n",
    "            else: \n",
    "                i += 1\n",
    "  \n",
    "def computeLPSArray(pat, M, lps): \n",
    "    len = 0 # length of the previous longest prefix suffix \n",
    "  \n",
    "    lps[0] # lps[0] is always 0 \n",
    "    i = 1\n",
    "  \n",
    "    # the loop calculates lps[i] for i = 1 to M-1 \n",
    "    while i < M: \n",
    "        if pat[i]== pat[len]: \n",
    "            len += 1\n",
    "            lps[i] = len\n",
    "            i += 1\n",
    "        else: \n",
    "            # This is tricky. Consider the example. \n",
    "            # AAACAAAA and i = 7. The idea is similar  \n",
    "            # to search step. \n",
    "            if len != 0: \n",
    "                len = lps[len-1] \n",
    "  \n",
    "                # Also, note that we do not increment i here \n",
    "            else: \n",
    "                lps[i] = 0\n",
    "                i += 1\n",
    "  \n",
    "txt = \"ABABDABACDABABCABAB\"\n",
    "pat = \"ABABCABAB\"\n",
    "KMPSearch(pat, txt) "
   ]
  },
  {
   "cell_type": "code",
   "execution_count": 74,
   "metadata": {},
   "outputs": [
    {
     "name": "stdout",
     "output_type": "stream",
     "text": [
      "[6]\n",
      "[0, 1, 2, 3]\n"
     ]
    }
   ],
   "source": [
    "def Rabin_Karp_Matcher(text, pattern, d, q):\n",
    "    n = len(text)\n",
    "    m = len(pattern)\n",
    "    h = pow(d,m-1)%q\n",
    "    p = 0\n",
    "    t = 0\n",
    "    result = []\n",
    "    for i in range(m): # preprocessing\n",
    "        p = (d*p+ord(pattern[i]))%q\n",
    "        t = (d*t+ord(text[i]))%q\n",
    "    for s in range(n-m+1): # note the +1\n",
    "        if p == t: # check character by character\n",
    "            match = True\n",
    "            for i in range(m):\n",
    "                if pattern[i] != text[s+i]:\n",
    "                    match = False\n",
    "                    break\n",
    "            if match:\n",
    "                result = result + [s]\n",
    "        if s < n-m:\n",
    "            t = (t-h*ord(text[s]))%q # remove letter s\n",
    "            t = (t*d+ord(text[s+m]))%q # add letter s+m\n",
    "            t = (t+q)%q # make sure that t >= 0\n",
    "    return result\n",
    "print (Rabin_Karp_Matcher (\"3141592653589793\", \"26\", 257, 11))\n",
    "print (Rabin_Karp_Matcher (\"xxxxx\", \"xx\", 40999999, 999999937))"
   ]
  },
  {
   "cell_type": "code",
   "execution_count": 76,
   "metadata": {},
   "outputs": [
    {
     "name": "stdout",
     "output_type": "stream",
     "text": [
      "Pattern occur at shift = 4\n"
     ]
    }
   ],
   "source": [
    "#booyer moore\n",
    "NO_OF_CHARS = 256\n",
    " \n",
    "def badCharHeuristic(string, size):\n",
    "    badChar = [-1]*NO_OF_CHARS\n",
    "    for i in range(size):\n",
    "        badChar[ord(string[i])] = i;  \n",
    "    return badChar\n",
    " \n",
    "def search(txt, pat):\n",
    "    m = len(pat)\n",
    "    n = len(txt)\n",
    "    badChar = badCharHeuristic(pat, m)  \n",
    "    s = 0\n",
    "    while(s <= n-m):\n",
    "        j = m-1\n",
    "        while j>=0 and pat[j] == txt[s+j]:\n",
    "            j -= 1\n",
    "        if j<0:\n",
    "            print(\"Pattern occur at shift = {}\".format(s))\n",
    "            s += (m-badChar[ord(txt[s+m])] if s+m<n else 1)\n",
    "        else:\n",
    "            s += max(1, j-badChar[ord(txt[s+j])])\n",
    " \n",
    " \n",
    "# Driver program to test above function\n",
    "def main():\n",
    "    txt = \"ABAAABCD\"\n",
    "    pat = \"ABC\"\n",
    "    search(txt, pat)\n",
    " \n",
    "if __name__ == '__main__':\n",
    "    main() \n"
   ]
  },
  {
   "cell_type": "code",
   "execution_count": 77,
   "metadata": {},
   "outputs": [
    {
     "data": {
      "text/plain": [
       "[11, 11, 29, 46, 51, 63, 63, 94, 96, 99]"
      ]
     },
     "execution_count": 77,
     "metadata": {},
     "output_type": "execute_result"
    }
   ],
   "source": [
    "#radix\n",
    "import time\n",
    "starting=time.time()\n",
    "from random import randint\n",
    "a=[randint(1,99)for p in range(0,10)]\n",
    "max1=max(a)\n",
    "exp=10\n",
    "numbers=[]\n",
    "while max1/exp>0:\n",
    "    for i in range (0,len(a)-1):\n",
    "        if ((a[i]%exp)>a[i+1]%exp):\n",
    "            a[i],a[i+1]=a[i+1],a[i]\n",
    "    exp*=10\n",
    "a"
   ]
  },
  {
   "cell_type": "code",
   "execution_count": null,
   "metadata": {},
   "outputs": [],
   "source": []
  }
 ],
 "metadata": {
  "kernelspec": {
   "display_name": "Python 3",
   "language": "python",
   "name": "python3"
  },
  "language_info": {
   "codemirror_mode": {
    "name": "ipython",
    "version": 3
   },
   "file_extension": ".py",
   "mimetype": "text/x-python",
   "name": "python",
   "nbconvert_exporter": "python",
   "pygments_lexer": "ipython3",
   "version": "3.7.3"
  }
 },
 "nbformat": 4,
 "nbformat_minor": 2
}
