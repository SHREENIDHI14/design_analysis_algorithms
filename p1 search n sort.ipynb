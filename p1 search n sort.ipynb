{
 "cells": [
  {
   "cell_type": "code",
   "execution_count": 4,
   "metadata": {},
   "outputs": [
    {
     "name": "stdout",
     "output_type": "stream",
     "text": [
      "Enter the number of inputs3\n",
      "[95, 91, 80]\n",
      "[91, 80, 95]\n",
      "[80, 91, 95]\n",
      "[80, 91, 95]\n",
      "0.0\n",
      "[80, 91, 95]\n"
     ]
    }
   ],
   "source": [
    "#bubble sort\n",
    "import numpy as np\n",
    "import time\n",
    "import random\n",
    "n=int(input(\"Enter the number of inputs\"))\n",
    "a=[random.randint(0,100) for i in range(n)]\n",
    "s=time.time()\n",
    "print(a)\n",
    "for i in range(0,n):\n",
    "    for j in range(n-i-1):\n",
    "        if a[j]>a[j+1]:\n",
    "            temp=a[j+1]\n",
    "            a[j+1]=a[j]\n",
    "            a[j]=temp\n",
    "    print(a)\n",
    "end=time.time()\n",
    "print(end-s)\n",
    "print(a)"
   ]
  },
  {
   "cell_type": "code",
   "execution_count": 3,
   "metadata": {},
   "outputs": [
    {
     "name": "stdout",
     "output_type": "stream",
     "text": [
      "enter the size3\n",
      "sorted array [21, 92, 24]\n",
      "sorted array [21, 24, 92]\n",
      "sorted array [21, 24, 92]\n",
      "final array [21, 24, 92]\n",
      "0.0\n"
     ]
    }
   ],
   "source": [
    "\n",
    "#selection sort\n",
    "import random\n",
    "import time\n",
    "size=int(input(\"enter the size\"))\n",
    "arr=[random.randint(0,100) for i in range(size)]\n",
    "sta=time.time()\n",
    "for i in range(0,len(arr)):\n",
    "    min=i\n",
    "    for j in range(i+1,len(arr)):\n",
    "        if arr[min]>arr[j]:\n",
    "            min=j   \n",
    "    temp=arr[i]\n",
    "    arr[i]=arr[min]\n",
    "    arr[min]=temp\n",
    "    print(\"sorted array\",arr)\n",
    "print(\"final array\",arr)\n",
    "end=time.time()\n",
    "print(end-sta)"
   ]
  },
  {
   "cell_type": "code",
   "execution_count": 2,
   "metadata": {},
   "outputs": [
    {
     "name": "stdout",
     "output_type": "stream",
     "text": [
      "False\n",
      "True\n"
     ]
    }
   ],
   "source": [
    "#binary search\n",
    "def binary_search(item_list,item):\n",
    "    first = 0\n",
    "    last = len(item_list)-1\n",
    "    found = False\n",
    "    while( first<=last and not found):\n",
    "        mid = (first + last)//2\n",
    "        if item_list[mid] == item :\n",
    "            found = True\n",
    "        else:\n",
    "            if item < item_list[mid]:\n",
    "                last = mid - 1\n",
    "            else:\n",
    "                first = mid + 1\t\n",
    "    return found\n",
    "    \n",
    "print(binary_search([1,2,3,5,8], 6))\n",
    "print(binary_search([1,2,3,5,8], 5))"
   ]
  },
  {
   "cell_type": "code",
   "execution_count": 1,
   "metadata": {},
   "outputs": [
    {
     "name": "stdout",
     "output_type": "stream",
     "text": [
      "enter the no of inputs3\n",
      "[17, 69, 17]\n",
      "Element is not present in array\n"
     ]
    }
   ],
   "source": [
    "#linear search:\n",
    "import random\n",
    "import time\n",
    "def search(arr, n, x): \n",
    "  \n",
    "    for i in range (0, n): \n",
    "        if (arr[i] == x): \n",
    "            return i; \n",
    "    return -1; \n",
    "  \n",
    "# Driver Code \n",
    "size=int(input(\"enter the no of inputs\"))\n",
    "arr = [random.randint(0,100)for i in range(size)]\n",
    "print(arr)\n",
    "x = 10;  \n",
    "result = search(arr,size, x) \n",
    "if(result == -1): \n",
    "    print(\"Element is not present in array\") \n",
    "else: \n",
    "    print(\"Element is present at index\", result); \n"
   ]
  },
  {
   "cell_type": "code",
   "execution_count": 5,
   "metadata": {},
   "outputs": [
    {
     "name": "stdout",
     "output_type": "stream",
     "text": [
      "[28 43 58 21 83]\n",
      "[28 43 21 58 83]\n",
      "[28 21 43 58 83]\n",
      "[21 28 43 58 83]\n",
      "0.0\n",
      "Sorted array is:\n",
      "[21 28 43 58 83]\n"
     ]
    }
   ],
   "source": [
    "#insertion\n",
    "import time\n",
    "import numpy as np\n",
    "import random\n",
    "s=time.time()\n",
    "def insertionSort(arr): \n",
    "    for i in range(1, len(arr)): \n",
    "        key = arr[i] \n",
    "        j = i-1\n",
    "        while j >=0 and key < arr[j] : \n",
    "                arr[j+1] = arr[j] \n",
    "                j -= 1 \n",
    "                arr[j+1] = key \n",
    "                print(arr)\n",
    "\n",
    "arr=np.random.randint(0,100,5)\n",
    "insertionSort(arr) \n",
    "e=time.time()\n",
    "print(e-s)\n",
    "print (\"Sorted array is:\") \n",
    "print(arr)\n"
   ]
  },
  {
   "cell_type": "code",
   "execution_count": 6,
   "metadata": {},
   "outputs": [
    {
     "name": "stdout",
     "output_type": "stream",
     "text": [
      "0.0\n",
      "enter the size3\n",
      "[29, 52, 87]\n",
      "Sorted array is:\n",
      "29\n",
      "52\n",
      "87\n"
     ]
    }
   ],
   "source": [
    "#quick sort\n",
    "start=time.time()\n",
    "def partition(arr,low,high): \n",
    "    i = ( low-1 )         # index of smaller element \n",
    "    pivot = arr[high]     # pivot \n",
    "  \n",
    "    for j in range(low , high): \n",
    "  \n",
    "        # If current element is smaller than or \n",
    "        # equal to pivot \n",
    "        if   arr[j] <= pivot: \n",
    "          \n",
    "            # increment index of smaller element \n",
    "            i = i+1 \n",
    "            arr[i],arr[j] = arr[j],arr[i] \n",
    "  \n",
    "    arr[i+1],arr[high] = arr[high],arr[i+1] \n",
    "    return ( i+1 )\n",
    "end=time.time()\n",
    "print(start-end)\n",
    "  \n",
    "def quickSort(arr,low,high): \n",
    "    if low < high: \n",
    "  \n",
    "        # pi is partitioning index, arr[p] is now \n",
    "        # at right place \n",
    "        pi = partition(arr,low,high) \n",
    "  \n",
    "        # Separately sort elements before \n",
    "        # partition and after partition \n",
    "        quickSort(arr, low, pi-1) \n",
    "        quickSort(arr, pi+1, high) \n",
    "\n",
    "# Driver code to test above \n",
    "size=int(input(\"enter the size\"))\n",
    "arr = [random.randint(0,100)for i in range(size)]\n",
    "print(arr)\n",
    "quickSort(arr,0,size-1) \n",
    "print (\"Sorted array is:\") \n",
    "for i in range(size): \n",
    "    print (\"%d\" %arr[i])"
   ]
  },
  {
   "cell_type": "code",
   "execution_count": null,
   "metadata": {},
   "outputs": [],
   "source": [
    "def insertionSort(arr): \n",
    "  \n",
    "    # Traverse through 1 to len(arr) \n",
    "    for i in range(1, len(arr)): \n",
    "  \n",
    "        key = arr[i] \n",
    "  \n",
    "        # Move elements of arr[0..i-1], that are \n",
    "        # greater than key, to one position ahead \n",
    "        # of their current position \n",
    "        j = i-1\n",
    "        while j >= 0 and key < arr[j] : \n",
    "                arr[j + 1] = arr[j] \n",
    "                j -= 1\n",
    "        arr[j + 1] = key \n",
    "  \n",
    "  \n",
    "# Driver code to test above \n",
    "arr = [12, 11, 13, 5, 6] \n",
    "insertionSort(arr) \n",
    "for i in range(len(arr)): \n",
    "    print (\"% d\" % arr[i])"
   ]
  },
  {
   "cell_type": "code",
   "execution_count": 1,
   "metadata": {},
   "outputs": [
    {
     "data": {
      "text/plain": [
       "[1,\n",
       " 2,\n",
       " 5,\n",
       " 5,\n",
       " 5,\n",
       " 6,\n",
       " 8,\n",
       " 9,\n",
       " 10,\n",
       " 10,\n",
       " 12,\n",
       " 13,\n",
       " 13,\n",
       " 13,\n",
       " 15,\n",
       " 17,\n",
       " 18,\n",
       " 19,\n",
       " 22,\n",
       " 23,\n",
       " 23,\n",
       " 25,\n",
       " 27,\n",
       " 27,\n",
       " 28,\n",
       " 28,\n",
       " 29,\n",
       " 29,\n",
       " 31,\n",
       " 32,\n",
       " 32,\n",
       " 33,\n",
       " 33,\n",
       " 33,\n",
       " 34,\n",
       " 35,\n",
       " 35,\n",
       " 35,\n",
       " 36,\n",
       " 36,\n",
       " 37,\n",
       " 40,\n",
       " 41,\n",
       " 42,\n",
       " 42,\n",
       " 43,\n",
       " 44,\n",
       " 50,\n",
       " 50,\n",
       " 52,\n",
       " 56,\n",
       " 57,\n",
       " 58,\n",
       " 58,\n",
       " 63,\n",
       " 64,\n",
       " 65,\n",
       " 67,\n",
       " 68,\n",
       " 69,\n",
       " 69,\n",
       " 71,\n",
       " 71,\n",
       " 72,\n",
       " 72,\n",
       " 74,\n",
       " 75,\n",
       " 76,\n",
       " 77,\n",
       " 77,\n",
       " 77,\n",
       " 77,\n",
       " 79,\n",
       " 80,\n",
       " 81,\n",
       " 82,\n",
       " 82,\n",
       " 83,\n",
       " 83,\n",
       " 83,\n",
       " 85,\n",
       " 86,\n",
       " 86,\n",
       " 88,\n",
       " 89,\n",
       " 90,\n",
       " 91,\n",
       " 91,\n",
       " 91,\n",
       " 92,\n",
       " 93,\n",
       " 93,\n",
       " 95,\n",
       " 96,\n",
       " 97,\n",
       " 98,\n",
       " 99,\n",
       " 99,\n",
       " 99,\n",
       " 99]"
      ]
     },
     "execution_count": 1,
     "metadata": {},
     "output_type": "execute_result"
    }
   ],
   "source": [
    "import time\n",
    "starting=time.time()\n",
    "from random import randint\n",
    "a=[randint(1,99)for p in range(0,100)]\n",
    "max1=max(a)\n",
    "exp=10\n",
    "numbers=[]\n",
    "while max1/exp>0:\n",
    "    for i in range (0,len(a)-1):\n",
    "        if ((a[i]%exp)>a[i+1]%exp):\n",
    "            a[i],a[i+1]=a[i+1],a[i]\n",
    "    exp*=10\n",
    "a"
   ]
  },
  {
   "cell_type": "code",
   "execution_count": null,
   "metadata": {},
   "outputs": [],
   "source": []
  }
 ],
 "metadata": {
  "kernelspec": {
   "display_name": "Python 3",
   "language": "python",
   "name": "python3"
  },
  "language_info": {
   "codemirror_mode": {
    "name": "ipython",
    "version": 3
   },
   "file_extension": ".py",
   "mimetype": "text/x-python",
   "name": "python",
   "nbconvert_exporter": "python",
   "pygments_lexer": "ipython3",
   "version": "3.7.3"
  }
 },
 "nbformat": 4,
 "nbformat_minor": 2
}
